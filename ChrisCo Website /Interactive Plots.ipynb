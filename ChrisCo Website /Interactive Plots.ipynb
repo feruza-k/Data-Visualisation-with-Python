{
  "nbformat": 4,
  "nbformat_minor": 0,
  "metadata": {
    "colab": {
      "private_outputs": true,
      "provenance": []
    },
    "kernelspec": {
      "name": "python3",
      "display_name": "Python 3"
    },
    "language_info": {
      "name": "python"
    }
  },
  "cells": [
    {
      "cell_type": "markdown",
      "source": [
        "Exploring some interactive plots for the ChrisCo company website pages.\n"
      ],
      "metadata": {
        "id": "WuEJFq92B0cx"
      }
    },
    {
      "cell_type": "code",
      "source": [
        "!pip install hvplot"
      ],
      "metadata": {
        "id": "WLD45aaBCv2Z"
      },
      "execution_count": null,
      "outputs": []
    },
    {
      "cell_type": "markdown",
      "source": [
        "1. First, let's reate an\n",
        "interactive visualisation showing line plots of all the pages on the site."
      ],
      "metadata": {
        "id": "7i4O3DgICWBE"
      }
    },
    {
      "cell_type": "code",
      "source": [
        "import holoviews as hv\n",
        "import pandas as pd\n",
        "import hvplot.pandas\n",
        "\n",
        "data = pd.read_csv('https://tinyurl.com/ChrisCoDV/Pages/DailyHits.csv', index_col=0)\n",
        "data.index = pd.to_datetime(data.index)\n",
        "print(data.head())\n",
        "\n",
        "plot = data.hvplot.line( frame_height=500, frame_width=500, xlabel='Date', ylabel='Hits', title='All Pages')\n",
        "hv.extension('bokeh')\n",
        "plot"
      ],
      "metadata": {
        "id": "m1ST839WCauQ"
      },
      "execution_count": null,
      "outputs": []
    },
    {
      "cell_type": "markdown",
      "source": [
        "2. Next create an interactive visualisation showing just the 2 high volume pages as line plots."
      ],
      "metadata": {
        "id": "bkoc1HT9DBkg"
      }
    },
    {
      "cell_type": "code",
      "execution_count": null,
      "metadata": {
        "id": "DUOP8GegBmfk"
      },
      "outputs": [],
      "source": [
        "selected = ['001', '015']\n",
        "\n",
        "plot = data[selected].hvplot.line(frame_height=500,\n",
        "                                  frame_width=500, xlabel='Date', ylabel='Hits',\n",
        "                                  title='High Volume Pages')\n",
        "hv.extension('bokeh')\n",
        "plot"
      ]
    },
    {
      "cell_type": "markdown",
      "source": [
        "3. Now, let's create an interactive visualisation showing superimposed histograms of the distributions of high\n",
        "volume pages with customised bin sizes."
      ],
      "metadata": {
        "id": "OIOtl5CvDN1r"
      }
    },
    {
      "cell_type": "code",
      "source": [
        "x_min = 900\n",
        "x_max = 1600\n",
        "bin_width = 10\n",
        "n_bins = int((x_max - x_min) / bin_width)\n",
        "print(str(n_bins) + ' bins')\n",
        "bins = [(x_min + x * (x_max - x_min) / n_bins) for x in range(int(n_bins))]\n",
        "\n",
        "selected = ['001', '015']\n",
        "plot = data[selected].hvplot.hist(\n",
        "    frame_height=500, frame_width=500,\n",
        "    xlabel='Hits', ylabel='Frequency',\n",
        "    title='High Volume Pages',\n",
        "    alpha=0.5, muted_alpha=0, muted_fill_alpha=0, muted_line_alpha=0,\n",
        "    tools=['pan', 'box_zoom', 'wheel_zoom', 'undo', 'redo', 'hover', 'save', 'reset'],\n",
        "    bins=bins\n",
        ")\n",
        "hv.extension('bokeh')\n",
        "plot"
      ],
      "metadata": {
        "id": "BNM5logwDQXI"
      },
      "execution_count": null,
      "outputs": []
    },
    {
      "cell_type": "markdown",
      "source": [
        "4. Create an interactive visualization displaying a heatmap illustrating the time-series correlations between all pages. Using the zoom feature we can find strong positive and negative correlations."
      ],
      "metadata": {
        "id": "88Y4f9C1EbVF"
      }
    },
    {
      "cell_type": "code",
      "source": [
        "plot = data.corr().hvplot.heatmap(\n",
        "    frame_height=500, frame_width=500,\n",
        "    title='Page correlations',\n",
        "    rot=90, cmap='coolwarm'\n",
        ").opts(invert_yaxis=True, clim=(-1, 1))\n",
        "hv.extension('bokeh')\n",
        "plot"
      ],
      "metadata": {
        "id": "h9sza7n8EeLY"
      },
      "execution_count": null,
      "outputs": []
    },
    {
      "cell_type": "markdown",
      "source": [
        "The 3 most closely correlated pages, in terms of page\n",
        "hits, are 048, 155 and 156."
      ],
      "metadata": {
        "id": "QtCiMYjduu0W"
      }
    },
    {
      "cell_type": "markdown",
      "source": [
        "5. Now. let's Create an interactive visualisation containing 3 scatter plot comparisons for each pair of these pages."
      ],
      "metadata": {
        "id": "kSccKyHlFhnk"
      }
    },
    {
      "cell_type": "code",
      "source": [
        "\n",
        "xlimits = (20, 230)\n",
        "ylimits = (20, 120)\n",
        "plot = data.hvplot.scatter(\n",
        "    frame_height=300, frame_width=300,\n",
        "    x='048', y='155', title='048 vs 155',\n",
        "    xlim=xlimits, ylim=ylimits, size=10\n",
        ") + \\\n",
        "data.hvplot.scatter(\n",
        "    frame_height=300, frame_width=300,\n",
        "    x='155', y='156', title='155 vs 156',\n",
        "    xlim=xlimits, ylim=ylimits, size=10\n",
        ") + \\\n",
        "data.hvplot.scatter(\n",
        "    frame_height=300, frame_width=300,\n",
        "    x='048', y='156', title='048 vs 156',\n",
        "    xlim=xlimits, ylim=ylimits, size=10\n",
        ")\n",
        "hv.extension('bokeh')\n",
        "plot\n",
        "\n"
      ],
      "metadata": {
        "id": "PK55s0h-FjhQ"
      },
      "execution_count": null,
      "outputs": []
    },
    {
      "cell_type": "markdown",
      "source": [
        "6. Create an interactive visualization showcasing the pages 048, 155, and 156, comprising three line subplots.\n"
      ],
      "metadata": {
        "id": "cipsltlVG7Vs"
      }
    },
    {
      "cell_type": "code",
      "source": [
        "selected = ['048', '155', '156']\n",
        "plot = data[selected].hvplot.line(\n",
        "    frame_height=300, frame_width=300,\n",
        "    xlabel='Date', ylabel='Hits',\n",
        "    subplots = True)\n",
        "\n",
        "hv.extension('bokeh')\n",
        "plot"
      ],
      "metadata": {
        "id": "wl88Bq6LG-Hi"
      },
      "execution_count": null,
      "outputs": []
    },
    {
      "cell_type": "markdown",
      "source": [
        "7. Finally, let's generate a bubble plot using the summary data to depict annual hits vs revenue, where the bubble sizes are determined by viewing time."
      ],
      "metadata": {
        "id": "_Gzgp938Jlka"
      }
    },
    {
      "cell_type": "code",
      "source": [
        "\n",
        "# 1.Read the dataset from a CSV file into a pandas DataFrame\n",
        "data = pd.read_csv('https://tinyurl.com/ChrisCoDV/Pages/DailyHits.csv', index_col=0)\n",
        "exit_rate = pd.read_csv('https://tinyurl.com/ChrisCoDV/Pages/PageExitRate.csv', index_col=0)\n",
        "revenue = pd.read_csv('https://tinyurl.com/ChrisCoDV/Pages/PageRevenue.csv', index_col=0)\n",
        "size = pd.read_csv('https://tinyurl.com/ChrisCoDV/Pages/PageSize.csv', index_col=0)\n",
        "speed = pd.read_csv('https://tinyurl.com/ChrisCoDV/Pages/PageSpeed.csv', index_col=0)\n",
        "viewing_time = pd.read_csv('https://tinyurl.com/ChrisCoDV/Pages/PageViewingTime.csv', index_col=0)\n",
        "\n",
        "\n",
        "summary_data = pd.DataFrame(index=data.columns)\n",
        "summary_data['View Time'] = viewing_time.values\n",
        "summary_data['Hits'] = data.sum().values\n",
        "summary_data['Revenue'] = revenue.values\n",
        "summary_data['Speed'] = speed.values\n",
        "summary_data['Size'] = size.values\n",
        "summary_data['Exit Rate'] = exit_rate.values\n",
        "print(summary_data.describe())"
      ],
      "metadata": {
        "id": "oYFRbYr6JpLZ"
      },
      "execution_count": null,
      "outputs": []
    },
    {
      "cell_type": "code",
      "source": [
        "summary_data['BubbleSize'] = summary_data['View Time'] * 0.2\n",
        "\n",
        "plot = summary_data.hvplot.scatter(\n",
        "    frame_height=400, frame_width=500,\n",
        "    title='Annual Hits vs Revenue (vs View Time)',\n",
        "    xlabel='Annual Hits', ylabel='Revenue',\n",
        "    alpha=0.5, padding=0.1, hover_cols='all',\n",
        "    tools=['pan', 'box_zoom', 'wheel_zoom', 'undo', 'redo', 'hover', 'save', 'reset'],\n",
        "    x='Hits', y='Revenue', size='BubbleSize'\n",
        ")\n",
        "hv.extension('bokeh')\n",
        "plot"
      ],
      "metadata": {
        "id": "hfTPzwB0J6qY"
      },
      "execution_count": null,
      "outputs": []
    }
  ]
}